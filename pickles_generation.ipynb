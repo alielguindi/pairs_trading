{
 "cells": [
  {
   "cell_type": "markdown",
   "metadata": {},
   "source": [
    "Notebook generating pickle files to avoid re-running the Monte Carlo Simulation\n"
   ]
  },
  {
   "cell_type": "code",
   "execution_count": 91,
   "metadata": {},
   "outputs": [],
   "source": [
    "import pandas as pd\n",
    "import numpy as np\n",
    "import matplotlib.pyplot as plt\n",
    "import openpyxl\n",
    "import statsmodels.api as sm\n",
    "from scipy.stats import t\n",
    "from multiprocessing import Pool\n",
    "import os\n",
    "from statsmodels.tsa.arima.model import ARIMA\n",
    "import pickle\n",
    "from statsmodels.tsa.stattools import adfuller"
   ]
  },
  {
   "cell_type": "markdown",
   "metadata": {},
   "source": [
    "Data cleaning and Pre-processing"
   ]
  },
  {
   "cell_type": "code",
   "execution_count": 92,
   "metadata": {},
   "outputs": [],
   "source": [
    "sheet_names = [\"Financials\", \"OilandGas\", \"Auto\", \"Hotels\"]\n"
   ]
  },
  {
   "cell_type": "code",
   "execution_count": 93,
   "metadata": {},
   "outputs": [],
   "source": [
    "#Price are adjusted close prices.\n",
    "list_datas = []\n",
    "for sheet in sheet_names :\n",
    "    data = pd.read_excel(\"data.xlsx\", sheet_name = sheet)\n",
    "    data.drop(0, inplace = True)\n",
    "    data.rename(columns= {\"Name\" : \"date\"}, inplace=True)\n",
    "    data[\"date\"] =pd.to_datetime(data[\"date\"])\n",
    "    data.set_index(\"date\",inplace = True)\n",
    "    list_datas.append(data)\n",
    "\n",
    "data_prices = pd.concat(list_datas, axis = 1)    \n",
    "\n",
    "data_prices = data_prices.astype(float)\n"
   ]
  },
  {
   "cell_type": "code",
   "execution_count": 94,
   "metadata": {},
   "outputs": [],
   "source": [
    "def remove_parentheses(column_name):\n",
    "    return column_name.split(' (')[0]\n",
    "\n",
    "# Apply the function to each column name\n",
    "data_prices.columns = [remove_parentheses(col) for col in data_prices.columns]\n",
    "data_prices.rename(columns = {\"VISA 'A'\" : \"VISA\"}, inplace = True)"
   ]
  },
  {
   "cell_type": "code",
   "execution_count": 95,
   "metadata": {},
   "outputs": [],
   "source": [
    "with open('./pickles/data_prices.pkl', 'wb') as file:\n",
    "   pickle.dump(data_prices, file)"
   ]
  },
  {
   "cell_type": "markdown",
   "metadata": {},
   "source": [
    "Descriptive Statistics "
   ]
  },
  {
   "cell_type": "code",
   "execution_count": 58,
   "metadata": {},
   "outputs": [],
   "source": [
    "def returns_computation(dataframe) :\n",
    "\n",
    "    #Simple returns \n",
    "    daily_returns_df = dataframe.pct_change().bfill()\n",
    "\n",
    "    weekly_returns_df = (1+daily_returns_df).resample(\"W\").prod() - 1\n",
    "    \n",
    "    #log returns formula \n",
    "    daily_log_returns_df = np.log(dataframe/dataframe.shift(1))\n",
    "\n",
    "    weekly_log_returns_df = (daily_log_returns_df).resample(\"W\").sum()\n",
    "\n",
    "    # Return the computed dataframes\n",
    "    return daily_returns_df, weekly_returns_df, daily_log_returns_df, weekly_log_returns_df\n",
    "\n",
    "    \n"
   ]
  },
  {
   "cell_type": "code",
   "execution_count": 59,
   "metadata": {},
   "outputs": [],
   "source": [
    "def descriptive_daily_stats(dataframe, daily_returns_dataframe, daily_log_returns_dataframe):\n",
    "    # Create an empty list to store each asset's stats\n",
    "    results_list = []\n",
    "    # Compute number of trading days for the first year of the dataframe for this asset\n",
    "   \n",
    "    \n",
    "    # Iterate over each column/asset in the returns dataframes\n",
    "    for asset in dataframe.columns:\n",
    "        year_mask = dataframe.index.year == dataframe.index.year[0]\n",
    "        nbr_trading_days = len(dataframe.loc[year_mask, asset])\n",
    "    \n",
    "\n",
    "        # Collect stats for the asset\n",
    "        stats = {\n",
    "            'Asset': asset,\n",
    "            'Annualized Mean': daily_returns_dataframe[asset].mean() * nbr_trading_days,\n",
    "            'Annualized Mean Log': daily_log_returns_dataframe[asset].mean() * nbr_trading_days,\n",
    "            'Annualized Variance': daily_returns_dataframe[asset].var() * nbr_trading_days,\n",
    "            'Annualized Variance Log': daily_log_returns_dataframe[asset].var() * nbr_trading_days,\n",
    "            'Skewness': daily_returns_dataframe[asset].skew(),\n",
    "            'Skewness Log': daily_log_returns_dataframe[asset].skew(),\n",
    "            'Kurtosis': daily_returns_dataframe[asset].kurt(),\n",
    "            'Kurtosis Log': daily_log_returns_dataframe[asset].kurt(),\n",
    "            'Min Daily Returns': daily_returns_dataframe[asset].min(),\n",
    "            'Max Daily Returns': daily_returns_dataframe[asset].max(),\n",
    "            'Min Daily Log Returns': daily_log_returns_dataframe[asset].min(),\n",
    "            'Max Daily Log Returns': daily_log_returns_dataframe[asset].max()\n",
    "        }\n",
    "        \n",
    "        # Append the dictionary of stats to the results list\n",
    "        results_list.append(stats)\n",
    "\n",
    "    # Convert list of dictionaries to a DataFrame\n",
    "    results_df = pd.DataFrame(results_list)\n",
    "    # Set 'Asset' as index if desired\n",
    "    results_df.set_index('Asset', inplace=True)\n",
    "\n",
    "    return results_df\n",
    "\n"
   ]
  },
  {
   "cell_type": "code",
   "execution_count": 60,
   "metadata": {},
   "outputs": [],
   "source": [
    "daily_returns_dataframe, weekly_returns_dataframe, daily_log_returns_dataframe, weekly_log_returns_dataframe= returns_computation(data_prices)\n",
    "summary_stats_dataframe = descriptive_daily_stats(data_prices, daily_returns_dataframe, daily_log_returns_dataframe)"
   ]
  },
  {
   "cell_type": "markdown",
   "metadata": {},
   "source": [
    "### Stationarity :\n",
    "* Dickey-Fuller test\n",
    "* For each series of Price we run the following regression : $p_t = \\mu + \\phi* p_{t-1} + \\epsilon_{t} $  where $p_t = log(P_t)$\n",
    "\n",
    "* $H_{0}$ :Unit root exists i.e not stationary $\\phi =1$ -> Random walk process\n",
    "* $H_{1}$: Series is stationary $\\phi =1<1$ \n",
    "\n",
    "* Can be re-written DF as : $\\Delta p_{t} =  \\mu + \\delta p_{t-1} + \\epsilon_{t}\\phi$ where $\\delta = 1-\\phi$\n",
    "* $H_{0}$ : Unit root exist if $1-\\phi = 0$"
   ]
  },
  {
   "cell_type": "markdown",
   "metadata": {},
   "source": [
    "* But let's see why do we compute the t-stat as = $t*(1- (\\phi^{i}))$\n",
    "* $\\phi$ : Estimated coeffecient of the lagged variable in AR(1) model\n",
    "* $\\phi -1$ : This substraction tranforms the test into a hypothesis wether $\\phi$ is different than one, if $\\phi$ is exactly 1 the series is a random walk\n",
    "* t: the t value of $\\phi$ coeffecient measures how many standard errors the estimated coeffecient is away from 0 . the t-value is computed to test the null that a coefficient equals 0 not 1 .\n",
    "* In the context of DF test, we want to test wether $\\phi$ differs significantly form 1 not 0. Therefore the adjustment ($\\phi -1 $) must be madw\n",
    "* By doing this multiplication : we transform the t-stat into a form that tests $H_0 : \\phi =1$ i.e how many standard errors the estimated coeffecient is far from 1\n",
    "* In the Monte Carlo simulations, by collecting the distribution of these modified t-statistics, we can then empirically derive the critical values for the test, which tell us how extreme the t-statistic must be for us to reject the null hypothesis at a given significance level.\n",
    "* We simulated the t-stats of unit root process. Logically, if we fall outside the critical values. we reject $H_0$ namely that our series does not contain a unit root and hence is stationary\n",
    "* We are computing manuallay the critical values for Dfuller test"
   ]
  },
  {
   "cell_type": "code",
   "execution_count": 61,
   "metadata": {},
   "outputs": [
    {
     "data": {
      "text/plain": [
       "' \\n\\n# Define the simulation function\\ndef simulation_run(iteration):\\n    error_term = np.random.normal(loc=0, scale=1, size=len(data_prices))\\n    prices = np.cumsum(error_term)  # Assuming p_0 = 0\\n    model = ARIMA(prices, order=(1, 0, 0), trend=\\'c\\')\\n    res = model.fit()\\n    t_val = res.tvalues[1]   # Getting the t_stat of the lagged value\\n    coeff = res.params[1]\\n    t_statistic = t_val * (coeff - 1)\\n    return t_statistic\\n\\n# Function to execute parallel simulations\\ndef execute_parallel_simulations(num_simulations, pool_size):\\n    # Pool size is the number of processes to run in parallel\\n    pool = Pool(pool_size)\\n    t_stat_array = pool.map(simulation_run, range(num_simulations))\\n    pool.close()\\n    pool.join()\\n    return t_stat_array\\n\\n# Set the number of simulations and the pool size\\nN = 10000  # Number of simulations\\npool_size = os.cpu_count()  # Number of CPU cores available\\n\\n\\nif __name__ == \"__main__\":\\n     t_stat_array = execute_parallel_simulations(N, pool_size)\\n\\n# # Calculate critical values\\ncritical_vals = {\\n    \"10%-Quantile\": np.quantile(t_stat_array, 0.10),\\n    \"5%-Quantile\": np.quantile(t_stat_array, 0.05),\\n    \"1%-Quantile\": np.quantile(t_stat_array, 0.01)\\n}\\n\\n'"
      ]
     },
     "execution_count": 61,
     "metadata": {},
     "output_type": "execute_result"
    }
   ],
   "source": [
    "#Use pickle files or de-comment and run the code but takes time.\n",
    "''' \n",
    "\n",
    "# Define the simulation function\n",
    "def simulation_run(iteration):\n",
    "    error_term = np.random.normal(loc=0, scale=1, size=len(data_prices))\n",
    "    prices = np.cumsum(error_term)  # Assuming p_0 = 0\n",
    "    model = ARIMA(prices, order=(1, 0, 0), trend='c')\n",
    "    res = model.fit()\n",
    "    t_val = res.tvalues[1]   # Getting the t_stat of the lagged value\n",
    "    coeff = res.params[1]\n",
    "    t_statistic = t_val * (coeff - 1)\n",
    "    return t_statistic\n",
    "\n",
    "# Function to execute parallel simulations\n",
    "def execute_parallel_simulations(num_simulations, pool_size):\n",
    "    # Pool size is the number of processes to run in parallel\n",
    "    pool = Pool(pool_size)\n",
    "    t_stat_array = pool.map(simulation_run, range(num_simulations))\n",
    "    pool.close()\n",
    "    pool.join()\n",
    "    return t_stat_array\n",
    "\n",
    "# Set the number of simulations and the pool size\n",
    "N = 10000  # Number of simulations\n",
    "pool_size = os.cpu_count()  # Number of CPU cores available\n",
    "\n",
    "\n",
    "if __name__ == \"__main__\":\n",
    "     t_stat_array = execute_parallel_simulations(N, pool_size)\n",
    "\n",
    "# # Calculate critical values\n",
    "critical_vals = {\n",
    "    \"10%-Quantile\": np.quantile(t_stat_array, 0.10),\n",
    "    \"5%-Quantile\": np.quantile(t_stat_array, 0.05),\n",
    "    \"1%-Quantile\": np.quantile(t_stat_array, 0.01)\n",
    "}\n",
    "\n",
    "'''\n"
   ]
  },
  {
   "cell_type": "code",
   "execution_count": 62,
   "metadata": {},
   "outputs": [
    {
     "name": "stderr",
     "output_type": "stream",
     "text": [
      "No artists with labels found to put in legend.  Note that artists whose label start with an underscore are ignored when legend() is called with no argument.\n"
     ]
    },
    {
     "data": {
      "image/png": "[encoded data removed]",
      "text/plain": [
       "<Figure size 640x480 with 1 Axes>"
      ]
     },
     "metadata": {},
     "output_type": "display_data"
    }
   ],
   "source": [
    "# Load t_stat_array from a pickle file\n",
    "with open('./pickles/t_stat_array.pkl', 'rb') as file:\n",
    "    t_stat_array = pickle.load(file)\n",
    "\n",
    "# Load critical_vals from a pickle file\n",
    "with open('./pickles/critical_vals.pkl', 'rb') as file:\n",
    "    critical_vals = pickle.load(file)\n",
    "\n",
    "\n",
    "plt.hist(t_stat_array, bins = 100)\n",
    "plt.title(\"Histogram of adjusted t-stats under $H_{0} =$  Series contains a unit root\")\n",
    "plt.legend()\n",
    "# Load t_stat_array from a pickle file\n",
    "plt.show()"
   ]
  },
  {
   "cell_type": "markdown",
   "metadata": {},
   "source": [
    "Re-do the simulation but for T =500"
   ]
  },
  {
   "cell_type": "code",
   "execution_count": 63,
   "metadata": {},
   "outputs": [
    {
     "data": {
      "text/plain": [
       "'\\'\\ndef simulation_run(iteration):\\n    T = 500\\n    error_term = np.random.normal(loc=0, scale=1, size=T)  # Adjust T as needed\\n    prices = np.cumsum(error_term)  # Assuming p_0 = 0\\n    model = ARIMA(prices, order=(1, 0, 0), trend=\\'c\\')\\n    res = model.fit()\\n    t_val = res.tvalues[1]   # Getting the t_stat of the lagged value\\n    coeff = res.params[1]\\n    t_statistic = t_val * (coeff - 1)\\n    return t_statistic\\n\\n# Function to execute parallel simulations\\ndef execute_parallel_simulations(num_simulations, pool_size):\\n    # Pool size is the number of processes to run in parallel\\n    pool = Pool(pool_size)\\n    t_stat_array_500 = pool.map(simulation_run, range(num_simulations))\\n    pool.close()\\n    pool.join()\\n    return t_stat_array_500\\n\\n# Set the number of simulations and the pool size\\nN = 10000  # Number of simulations\\npool_size = os.cpu_count()  # Number of CPU cores available\\n\\n# Run the Monte Carlo simulations in a local environment with the following block\\nif __name__ == \"__main__\":\\n    t_stat_array_500 = execute_parallel_simulations(N, pool_size)\\n\\n    # Calculate critical values\\n    critical_vals_500 = {\\n        \"10%-Quantile\": np.quantile(t_stat_array_500, 0.10),\\n        \"5%-Quantile\": np.quantile(t_stat_array_500, 0.05),\\n        \"1%-Quantile\": np.quantile(t_stat_array_500, 0.01)\\n    }\\n\\n    '"
      ]
     },
     "execution_count": 63,
     "metadata": {},
     "output_type": "execute_result"
    }
   ],
   "source": [
    "#Use pickle files or de-comment and run the code but takes time.\n",
    "''''\n",
    "def simulation_run(iteration):\n",
    "    T = 500\n",
    "    error_term = np.random.normal(loc=0, scale=1, size=T)  # Adjust T as needed\n",
    "    prices = np.cumsum(error_term)  # Assuming p_0 = 0\n",
    "    model = ARIMA(prices, order=(1, 0, 0), trend='c')\n",
    "    res = model.fit()\n",
    "    t_val = res.tvalues[1]   # Getting the t_stat of the lagged value\n",
    "    coeff = res.params[1]\n",
    "    t_statistic = t_val * (coeff - 1)\n",
    "    return t_statistic\n",
    "\n",
    "# Function to execute parallel simulations\n",
    "def execute_parallel_simulations(num_simulations, pool_size):\n",
    "    # Pool size is the number of processes to run in parallel\n",
    "    pool = Pool(pool_size)\n",
    "    t_stat_array_500 = pool.map(simulation_run, range(num_simulations))\n",
    "    pool.close()\n",
    "    pool.join()\n",
    "    return t_stat_array_500\n",
    "\n",
    "# Set the number of simulations and the pool size\n",
    "N = 10000  # Number of simulations\n",
    "pool_size = os.cpu_count()  # Number of CPU cores available\n",
    "\n",
    "# Run the Monte Carlo simulations in a local environment with the following block\n",
    "if __name__ == \"__main__\":\n",
    "    t_stat_array_500 = execute_parallel_simulations(N, pool_size)\n",
    "\n",
    "    # Calculate critical values\n",
    "    critical_vals_500 = {\n",
    "        \"10%-Quantile\": np.quantile(t_stat_array_500, 0.10),\n",
    "        \"5%-Quantile\": np.quantile(t_stat_array_500, 0.05),\n",
    "        \"1%-Quantile\": np.quantile(t_stat_array_500, 0.01)\n",
    "    }\n",
    "\n",
    "    '''\n"
   ]
  },
  {
   "cell_type": "code",
   "execution_count": 64,
   "metadata": {},
   "outputs": [],
   "source": [
    "# Load t_stat_array from a pickle file\n",
    "with open('./pickles/t_stat_array.pkl', 'rb') as file:\n",
    "    t_stat_array_500 = pickle.load(file)\n",
    "\n",
    "# Load critical_vals from a pickle file\n",
    "with open('./pickles/critical_vals.pkl', 'rb') as file:\n",
    "    critical_vals_500 = pickle.load(file)"
   ]
  },
  {
   "cell_type": "markdown",
   "metadata": {},
   "source": [
    "Co-integration :\n",
    "* To test for cointegration between for the pair (A-B), we proceed as follows:\n",
    "* First, we estimate their relationship by running a regression between their contemporaneous log prices : $p^{A}_{t} = \\alpha + \\beta p^{B}_{t}+ z_t $ where $z_t$ is the error term of the regression, it represents the part of Asset A's price that is not explained by Asset B's price. If A and B are co-integrated, $z_t$ should capture the equilibrium error- the deviation from the long-term equilibrium between the two assets\n",
    "* Secondly Then, we use the Dickey-Fuller test for testing the null of unit root in $z_t$ . So we estimate the regression : $\\Delta z_{t} = \\mu + \\phi z_{t}  + \\epsilon_{t}$. If A and B are co-integrated even if A and B are non stationary (e.g have both unit roots),their linear relationship which is captured by the residuals should be stationary. So we use DF test to asses the stationarity of $z_t$. If you can reject the null hypothesis (typically if $\\phi$ is significantly negative), it indicates that the residuals $z_t$​ do not have a unit root and are stationary. This is evidence of cointegration between A and B, suggesting that any deviations from the equilibrium relationship are temporary and that the prices will move back towards equilibrium.\n",
    "\n",
    "\n"
   ]
  },
  {
   "cell_type": "markdown",
   "metadata": {},
   "source": [
    "Now as before we will compute our own critical values :\n",
    "* Simulate two time seires of independent random walks : $p_{t}^{A} = p_{t-1}^{A} + \\epsilon_{t}^{A}$ and $p_{t}^{B} = p_{t-1}^{B} + \\epsilon_{t}^{B}$. Error terms are N(0,1)\n",
    "\n",
    "* Estime the linear relationship : $p^{A}_{t} = \\alpha + \\beta p^{B}_{t}+ z_t $\n",
    "\n",
    "* Under $H_0$ : No-cointegration, the residuals $z_t$ shouldn't be stationary\n",
    "\n",
    "* We perform dfuller test on $z_t$ : we asses the stationarity of $z_t$ \n",
    "* Estimate AR(1) model for residuals. under alternative hypothesis : $\\Delta z_t = \\mu + \\phi  z_{t-1} + \\epsilon_{t}$\n",
    "\n",
    "* When you simulate two independent random walks, you're effectively creating two time series where each step in each series is determined by the previous step plus a random error, and the error terms are drawn from a normal distribution N(0,1)N(0,1). Crucially, since these two series are generated independently of each other, there is no inherent or underlying link between their movements—any observed relationship in a regression analysis would be purely coincidental (or spurious). Hence your $H_0$ : No co-integration"
   ]
  },
  {
   "cell_type": "code",
   "execution_count": 66,
   "metadata": {},
   "outputs": [
    {
     "data": {
      "text/plain": [
       "' \\ndef simulation_run(iteration):\\n    T = len(data_prices)\\n    error_term_1, error_term_2 = np.random.normal(loc=0, scale=1, size=T), np.random.normal(loc=0, scale=1, size=T)  \\n    p_t_1, p_t_2 = np.cumsum(error_term_1), np.cumsum(error_term_2)  \\n    \\n    #Linear relationship estimation\\n    model_lin_reg = sm.OLS(p_t_1, sm.add_constant(p_t_2))\\n    res = model_lin_reg.fit()\\n    residuals = pd.Series(res.resid)[1:]\\n    df_test = adfuller(residuals)    \\n    \\n    residuals_shifted = residuals.shift(1)[1:]\\n\\n    delta_residuals = residuals - residuals_shifted\\n    \\n    \\n    \\n    model = ARIMA(delta_residuals, order=(1, 0, 0), trend=\\'c\\')\\n    res = model.fit()\\n    t_stat = res.tvalues[1]   # Getting the t_stat of the lagged value\\n    \\n    return t_stat\\n\\n# Function to execute parallel simulations\\ndef execute_parallel_simulations(num_simulations, pool_size):\\n    # Pool size is the number of processes to run in parallel\\n    pool = Pool(pool_size)\\n    t_stat_array_cointegration = pool.map(simulation_run, range(num_simulations))\\n    pool.close()\\n    pool.join()\\n    return t_stat_array_cointegration\\n\\n# Set the number of simulations and the pool size\\nN = 1000  # Number of simulations\\npool_size = os.cpu_count()  # Number of CPU cores available\\n\\n# Run the Monte Carlo simulations in a local environment with the following block\\nif __name__ == \"__main__\":\\n    t_stat_array_cointegration = execute_parallel_simulations(N, pool_size)\\n\\n    # Calculate critical values\\n    critical_vals_cointegration = {\\n        \"10%-Quantile\": np.quantile(t_stat_array_cointegration, 0.10),\\n        \"5%-Quantile\": np.quantile(t_stat_array_cointegration, 0.05),\\n        \"1%-Quantile\": np.quantile(t_stat_array_cointegration, 0.01)\\n    }\\n\\n'"
      ]
     },
     "execution_count": 66,
     "metadata": {},
     "output_type": "execute_result"
    }
   ],
   "source": [
    "''' \n",
    "def simulation_run(iteration):\n",
    "    T = len(data_prices)\n",
    "    error_term_1, error_term_2 = np.random.normal(loc=0, scale=1, size=T), np.random.normal(loc=0, scale=1, size=T)  \n",
    "    p_t_1, p_t_2 = np.cumsum(error_term_1), np.cumsum(error_term_2)  \n",
    "    \n",
    "    #Linear relationship estimation\n",
    "    model_lin_reg = sm.OLS(p_t_1, sm.add_constant(p_t_2))\n",
    "    res = model_lin_reg.fit()\n",
    "    residuals = pd.Series(res.resid)[1:]\n",
    "    df_test = adfuller(residuals)    \n",
    "    \n",
    "    residuals_shifted = residuals.shift(1)[1:]\n",
    "\n",
    "    delta_residuals = residuals - residuals_shifted\n",
    "    \n",
    "    \n",
    "    \n",
    "    model = ARIMA(delta_residuals, order=(1, 0, 0), trend='c')\n",
    "    res = model.fit()\n",
    "    t_stat = res.tvalues[1]   # Getting the t_stat of the lagged value\n",
    "    \n",
    "    return t_stat\n",
    "\n",
    "# Function to execute parallel simulations\n",
    "def execute_parallel_simulations(num_simulations, pool_size):\n",
    "    # Pool size is the number of processes to run in parallel\n",
    "    pool = Pool(pool_size)\n",
    "    t_stat_array_cointegration = pool.map(simulation_run, range(num_simulations))\n",
    "    pool.close()\n",
    "    pool.join()\n",
    "    return t_stat_array_cointegration\n",
    "\n",
    "# Set the number of simulations and the pool size\n",
    "N = 1000  # Number of simulations\n",
    "pool_size = os.cpu_count()  # Number of CPU cores available\n",
    "\n",
    "# Run the Monte Carlo simulations in a local environment with the following block\n",
    "if __name__ == \"__main__\":\n",
    "    t_stat_array_cointegration = execute_parallel_simulations(N, pool_size)\n",
    "\n",
    "    # Calculate critical values\n",
    "    critical_vals_cointegration = {\n",
    "        \"10%-Quantile\": np.quantile(t_stat_array_cointegration, 0.10),\n",
    "        \"5%-Quantile\": np.quantile(t_stat_array_cointegration, 0.05),\n",
    "        \"1%-Quantile\": np.quantile(t_stat_array_cointegration, 0.01)\n",
    "    }\n",
    "\n",
    "'''"
   ]
  },
  {
   "cell_type": "code",
   "execution_count": 67,
   "metadata": {},
   "outputs": [],
   "source": [
    "#with open('t_stat_cointegration_array.pkl', 'wb') as file:\n",
    "    #pickle.dump(t_stat_array_cointegration, file)\n",
    "\n",
    "#with open('critical__cointegration_vals.pkl', 'wb') as file:\n",
    "    #pickle.dump(critical_vals_cointegration, file)\n"
   ]
  },
  {
   "cell_type": "code",
   "execution_count": 68,
   "metadata": {},
   "outputs": [],
   "source": [
    "# Load t_stat_array from a pickle file\n",
    "with open('./pickles/t_stat_cointegration_array.pkl', 'rb') as file:\n",
    "    t_cointegration_stat_array = pickle.load(file)\n",
    "\n",
    "# Load critical_vals from a pickle file\n",
    "with open('./pickles/critical__cointegration_vals.pkl', 'rb') as file:\n",
    "    critical_cointegration_vals = pickle.load(file)"
   ]
  },
  {
   "cell_type": "code",
   "execution_count": 69,
   "metadata": {},
   "outputs": [
    {
     "data": {
      "text/plain": [
       "'\\nfrom statsmodels.tsa.stattools import adfuller\\ndef simulation_run(iteration):\\n    T = 500\\n    error_term_1, error_term_2 = np.random.normal(loc=0, scale=1, size=T), np.random.normal(loc=0, scale=1, size=T)  \\n    p_t_1, p_t_2 = np.cumsum(error_term_1), np.cumsum(error_term_2)  \\n    \\n    #Linear relationship estimation\\n    model_lin_reg = sm.OLS(p_t_1, sm.add_constant(p_t_2))\\n    res = model_lin_reg.fit()\\n    residuals = pd.Series(res.resid)[1:]\\n    df_test = adfuller(residuals)    \\n    \\n    residuals_shifted = residuals.shift(1)[1:]\\n\\n    delta_residuals = residuals - residuals_shifted\\n    \\n    \\n    \\n    model = ARIMA(delta_residuals, order=(1, 0, 0), trend=\\'c\\')\\n    res = model.fit()\\n    t_stat = res.tvalues[1]   # Getting the t_stat of the lagged value\\n    \\n    return t_stat\\n\\n# Function to execute parallel simulations\\ndef execute_parallel_simulations(num_simulations, pool_size):\\n    # Pool size is the number of processes to run in parallel\\n    pool = Pool(pool_size)\\n    t_stat_array_cointegration_500 = pool.map(simulation_run, range(num_simulations))\\n    pool.close()\\n    pool.join()\\n    return t_stat_array_cointegration_500\\n\\n# Set the number of simulations and the pool size\\nN = 1000  # Number of simulations\\npool_size = os.cpu_count()  # Number of CPU cores available\\n\\n# Run the Monte Carlo simulations in a local environment with the following block\\nif __name__ == \"__main__\":\\n    t_stat_array_cointegration_500= execute_parallel_simulations(N, pool_size)\\n\\n    # Calculate critical values\\n    critical_vals_cointegration_500 = {\\n        \"10%-Quantile\": np.quantile(t_stat_array_cointegration_500, 0.10),\\n        \"5%-Quantile\": np.quantile(t_stat_array_cointegration_500, 0.05),\\n        \"1%-Quantile\": np.quantile(t_stat_array_cointegration_500, 0.01)\\n    }\\n\\n    '"
      ]
     },
     "execution_count": 69,
     "metadata": {},
     "output_type": "execute_result"
    }
   ],
   "source": [
    "\n",
    "'''\n",
    "from statsmodels.tsa.stattools import adfuller\n",
    "def simulation_run(iteration):\n",
    "    T = 500\n",
    "    error_term_1, error_term_2 = np.random.normal(loc=0, scale=1, size=T), np.random.normal(loc=0, scale=1, size=T)  \n",
    "    p_t_1, p_t_2 = np.cumsum(error_term_1), np.cumsum(error_term_2)  \n",
    "    \n",
    "    #Linear relationship estimation\n",
    "    model_lin_reg = sm.OLS(p_t_1, sm.add_constant(p_t_2))\n",
    "    res = model_lin_reg.fit()\n",
    "    residuals = pd.Series(res.resid)[1:]\n",
    "    df_test = adfuller(residuals)    \n",
    "    \n",
    "    residuals_shifted = residuals.shift(1)[1:]\n",
    "\n",
    "    delta_residuals = residuals - residuals_shifted\n",
    "    \n",
    "    \n",
    "    \n",
    "    model = ARIMA(delta_residuals, order=(1, 0, 0), trend='c')\n",
    "    res = model.fit()\n",
    "    t_stat = res.tvalues[1]   # Getting the t_stat of the lagged value\n",
    "    \n",
    "    return t_stat\n",
    "\n",
    "# Function to execute parallel simulations\n",
    "def execute_parallel_simulations(num_simulations, pool_size):\n",
    "    # Pool size is the number of processes to run in parallel\n",
    "    pool = Pool(pool_size)\n",
    "    t_stat_array_cointegration_500 = pool.map(simulation_run, range(num_simulations))\n",
    "    pool.close()\n",
    "    pool.join()\n",
    "    return t_stat_array_cointegration_500\n",
    "\n",
    "# Set the number of simulations and the pool size\n",
    "N = 1000  # Number of simulations\n",
    "pool_size = os.cpu_count()  # Number of CPU cores available\n",
    "\n",
    "# Run the Monte Carlo simulations in a local environment with the following block\n",
    "if __name__ == \"__main__\":\n",
    "    t_stat_array_cointegration_500= execute_parallel_simulations(N, pool_size)\n",
    "\n",
    "    # Calculate critical values\n",
    "    critical_vals_cointegration_500 = {\n",
    "        \"10%-Quantile\": np.quantile(t_stat_array_cointegration_500, 0.10),\n",
    "        \"5%-Quantile\": np.quantile(t_stat_array_cointegration_500, 0.05),\n",
    "        \"1%-Quantile\": np.quantile(t_stat_array_cointegration_500, 0.01)\n",
    "    }\n",
    "\n",
    "    '''"
   ]
  },
  {
   "cell_type": "code",
   "execution_count": 70,
   "metadata": {},
   "outputs": [],
   "source": [
    "#with open('t_stat_cointegration_array_500.pkl', 'wb') as file:\n",
    "   #pickle.dump(t_stat_array_cointegration_500, file)\n",
    "\n",
    "#with open('critical__cointegration_vals_500.pkl', 'wb') as file:\n",
    "    #pickle.dump(critical_vals_cointegration_500, file)"
   ]
  },
  {
   "cell_type": "code",
   "execution_count": 71,
   "metadata": {},
   "outputs": [],
   "source": [
    "# Load t_stat_array from a pickle file\n",
    "with open('./pickles/t_stat_cointegration_array_500.pkl', 'rb') as file:\n",
    "    t_cointegration_stat_array_500 = pickle.load(file)\n",
    "\n",
    "# Load critical_vals from a pickle file\n",
    "with open('./pickles/critical__cointegration_vals_500.pkl', 'rb') as file:\n",
    "    critical_cointegration_vals_500 = pickle.load(file)"
   ]
  }
 ],
 "metadata": {
  "kernelspec": {
   "display_name": "Python 3",
   "language": "python",
   "name": "python3"
  },
  "language_info": {
   "codemirror_mode": {
    "name": "ipython",
    "version": 3
   },
   "file_extension": ".py",
   "mimetype": "text/x-python",
   "name": "python",
   "nbconvert_exporter": "python",
   "pygments_lexer": "ipython3",
   "version": "3.11.6"
  }
 },
 "nbformat": 4,
 "nbformat_minor": 2
}
